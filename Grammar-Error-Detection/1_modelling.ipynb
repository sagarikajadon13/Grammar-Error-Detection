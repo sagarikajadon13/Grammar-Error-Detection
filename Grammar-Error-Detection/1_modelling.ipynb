{
  "cells": [
    {
      "cell_type": "markdown",
      "metadata": {
        "id": "view-in-github",
        "colab_type": "text"
      },
      "source": [
        "<a href=\"https://colab.research.google.com/github/sagarikajadon13/Grammar-Error-Detection/blob/main/1_modelling.ipynb\" target=\"_parent\"><img src=\"https://colab.research.google.com/assets/colab-badge.svg\" alt=\"Open In Colab\"/></a>"
      ]
    },
    {
      "cell_type": "code",
      "source": [
        "from google.colab import drive\n",
        "drive.mount('/content/drive')"
      ],
      "metadata": {
        "id": "hQacZK9S-A1d",
        "colab": {
          "base_uri": "https://localhost:8080/"
        },
        "outputId": "79d06bef-231a-4f83-dc8c-8336c7c3fda7"
      },
      "id": "hQacZK9S-A1d",
      "execution_count": null,
      "outputs": [
        {
          "output_type": "stream",
          "name": "stdout",
          "text": [
            "Mounted at /content/drive\n"
          ]
        }
      ]
    },
    {
      "cell_type": "code",
      "execution_count": null,
      "id": "2c0ea2ce",
      "metadata": {
        "id": "2c0ea2ce",
        "colab": {
          "base_uri": "https://localhost:8080/"
        },
        "outputId": "50c3c4be-5c1e-4e45-9d14-07d35c2a97c4"
      },
      "outputs": [
        {
          "output_type": "stream",
          "name": "stdout",
          "text": [
            "[nltk_data] Downloading package stopwords to /root/nltk_data...\n",
            "[nltk_data]   Package stopwords is already up-to-date!\n",
            "[nltk_data] Downloading package punkt to /root/nltk_data...\n",
            "[nltk_data]   Package punkt is already up-to-date!\n",
            "[nltk_data] Downloading package wordnet to /root/nltk_data...\n",
            "[nltk_data]   Package wordnet is already up-to-date!\n"
          ]
        }
      ],
      "source": [
        "import re\n",
        "import string\n",
        "\n",
        "import numpy as np\n",
        "import pandas as pd\n",
        "import matplotlib.pyplot as plt\n",
        "import seaborn as sns\n",
        "\n",
        "import nltk\n",
        "nltk.download('stopwords')\n",
        "nltk.download('punkt')\n",
        "nltk.download('wordnet')\n",
        "from nltk.stem.snowball import SnowballStemmer\n",
        "from nltk.stem import WordNetLemmatizer\n",
        "\n",
        "from nltk.corpus import stopwords\n",
        "\n",
        "from nltk.tokenize import word_tokenize\n",
        "from nltk.tokenize import wordpunct_tokenize\n",
        "from nltk.tokenize import sent_tokenize\n",
        "\n",
        "import spacy\n",
        "import gensim\n",
        "from gensim.models import Word2Vec\n",
        "\n",
        "from sklearn.model_selection import train_test_split, KFold\n",
        "from sklearn.feature_extraction.text import TfidfVectorizer, CountVectorizer\n",
        "from sklearn.metrics import f1_score, accuracy_score, confusion_matrix, precision_score, recall_score, precision_recall_curve\n",
        "\n",
        "from sklearn.neighbors import KNeighborsClassifier\n",
        "from sklearn.linear_model import LogisticRegression\n",
        "from sklearn.svm import SVC\n",
        "from sklearn.naive_bayes import MultinomialNB, GaussianNB\n",
        "from sklearn.preprocessing import MinMaxScaler, MaxAbsScaler\n",
        "from sklearn.pipeline import Pipeline\n",
        "\n",
        "import xgboost as xgb"
      ]
    },
    {
      "cell_type": "code",
      "execution_count": null,
      "id": "5eba5ea5",
      "metadata": {
        "id": "5eba5ea5"
      },
      "outputs": [],
      "source": [
        "train= pd.read_csv('/content/drive/MyDrive/SHL NLP task/train_processed.csv')\n",
        "val= pd.read_csv('/content/drive/MyDrive/SHL NLP task/val_data.csv')\n",
        "test= pd.read_csv('/content/drive/MyDrive/SHL NLP task/test_data.csv')\n",
        "test_inputs= test['input']"
      ]
    },
    {
      "cell_type": "code",
      "source": [
        "train"
      ],
      "metadata": {
        "id": "q2I0o-GIt6bX",
        "outputId": "5df41229-0947-4700-f02a-483cd29c68f7",
        "colab": {
          "base_uri": "https://localhost:8080/",
          "height": 423
        }
      },
      "id": "q2I0o-GIt6bX",
      "execution_count": null,
      "outputs": [
        {
          "output_type": "execute_result",
          "data": {
            "text/plain": [
              "                                                   input  labels  input_len  \\\n",
              "0        I am reading score of Mahler is Symphony No . .       0         11   \n",
              "1      I am not interested in cars or electric applia...       1         10   \n",
              "2             This is my homework for my English class .       0          9   \n",
              "3      In comparison , Canada is catches increased an...       0         18   \n",
              "4      Fortunately , my older sister is friend is a d...       1         11   \n",
              "...                                                  ...     ...        ...   \n",
              "19930  To read all the formal written meeting records...       1         25   \n",
              "19931  To check whether the written notices comply wi...       1         15   \n",
              "19932  To check the rules of procedure and reports of...       1         13   \n",
              "19933  To check whether the supervisors are in charge...       1         18   \n",
              "19934  To check whether the leaders of business units...       1         32   \n",
              "\n",
              "                                            preprocessed  \n",
              "0        I am reading score of Mahler is Symphony No . .  \n",
              "1      I am not interested in car or electric applian...  \n",
              "2             This is my homework for my English class .  \n",
              "3      In comparison , Canada is catch increased and ...  \n",
              "4      Fortunately , my older sister is friend is a d...  \n",
              "...                                                  ...  \n",
              "19930  To read all the formal written meeting record ...  \n",
              "19931  To check whether the written notice comply wit...  \n",
              "19932  To check the rule of procedure and report of t...  \n",
              "19933  To check whether the supervisor are in charge ...  \n",
              "19934  To check whether the leader of business unit a...  \n",
              "\n",
              "[19935 rows x 4 columns]"
            ],
            "text/html": [
              "\n",
              "  <div id=\"df-9f0a0895-c333-419d-b3bf-6b2b54cea35b\">\n",
              "    <div class=\"colab-df-container\">\n",
              "      <div>\n",
              "<style scoped>\n",
              "    .dataframe tbody tr th:only-of-type {\n",
              "        vertical-align: middle;\n",
              "    }\n",
              "\n",
              "    .dataframe tbody tr th {\n",
              "        vertical-align: top;\n",
              "    }\n",
              "\n",
              "    .dataframe thead th {\n",
              "        text-align: right;\n",
              "    }\n",
              "</style>\n",
              "<table border=\"1\" class=\"dataframe\">\n",
              "  <thead>\n",
              "    <tr style=\"text-align: right;\">\n",
              "      <th></th>\n",
              "      <th>input</th>\n",
              "      <th>labels</th>\n",
              "      <th>input_len</th>\n",
              "      <th>preprocessed</th>\n",
              "    </tr>\n",
              "  </thead>\n",
              "  <tbody>\n",
              "    <tr>\n",
              "      <th>0</th>\n",
              "      <td>I am reading score of Mahler is Symphony No . .</td>\n",
              "      <td>0</td>\n",
              "      <td>11</td>\n",
              "      <td>I am reading score of Mahler is Symphony No . .</td>\n",
              "    </tr>\n",
              "    <tr>\n",
              "      <th>1</th>\n",
              "      <td>I am not interested in cars or electric applia...</td>\n",
              "      <td>1</td>\n",
              "      <td>10</td>\n",
              "      <td>I am not interested in car or electric applian...</td>\n",
              "    </tr>\n",
              "    <tr>\n",
              "      <th>2</th>\n",
              "      <td>This is my homework for my English class .</td>\n",
              "      <td>0</td>\n",
              "      <td>9</td>\n",
              "      <td>This is my homework for my English class .</td>\n",
              "    </tr>\n",
              "    <tr>\n",
              "      <th>3</th>\n",
              "      <td>In comparison , Canada is catches increased an...</td>\n",
              "      <td>0</td>\n",
              "      <td>18</td>\n",
              "      <td>In comparison , Canada is catch increased and ...</td>\n",
              "    </tr>\n",
              "    <tr>\n",
              "      <th>4</th>\n",
              "      <td>Fortunately , my older sister is friend is a d...</td>\n",
              "      <td>1</td>\n",
              "      <td>11</td>\n",
              "      <td>Fortunately , my older sister is friend is a d...</td>\n",
              "    </tr>\n",
              "    <tr>\n",
              "      <th>...</th>\n",
              "      <td>...</td>\n",
              "      <td>...</td>\n",
              "      <td>...</td>\n",
              "      <td>...</td>\n",
              "    </tr>\n",
              "    <tr>\n",
              "      <th>19930</th>\n",
              "      <td>To read all the formal written meeting records...</td>\n",
              "      <td>1</td>\n",
              "      <td>25</td>\n",
              "      <td>To read all the formal written meeting record ...</td>\n",
              "    </tr>\n",
              "    <tr>\n",
              "      <th>19931</th>\n",
              "      <td>To check whether the written notices comply wi...</td>\n",
              "      <td>1</td>\n",
              "      <td>15</td>\n",
              "      <td>To check whether the written notice comply wit...</td>\n",
              "    </tr>\n",
              "    <tr>\n",
              "      <th>19932</th>\n",
              "      <td>To check the rules of procedure and reports of...</td>\n",
              "      <td>1</td>\n",
              "      <td>13</td>\n",
              "      <td>To check the rule of procedure and report of t...</td>\n",
              "    </tr>\n",
              "    <tr>\n",
              "      <th>19933</th>\n",
              "      <td>To check whether the supervisors are in charge...</td>\n",
              "      <td>1</td>\n",
              "      <td>18</td>\n",
              "      <td>To check whether the supervisor are in charge ...</td>\n",
              "    </tr>\n",
              "    <tr>\n",
              "      <th>19934</th>\n",
              "      <td>To check whether the leaders of business units...</td>\n",
              "      <td>1</td>\n",
              "      <td>32</td>\n",
              "      <td>To check whether the leader of business unit a...</td>\n",
              "    </tr>\n",
              "  </tbody>\n",
              "</table>\n",
              "<p>19935 rows × 4 columns</p>\n",
              "</div>\n",
              "      <button class=\"colab-df-convert\" onclick=\"convertToInteractive('df-9f0a0895-c333-419d-b3bf-6b2b54cea35b')\"\n",
              "              title=\"Convert this dataframe to an interactive table.\"\n",
              "              style=\"display:none;\">\n",
              "        \n",
              "  <svg xmlns=\"http://www.w3.org/2000/svg\" height=\"24px\"viewBox=\"0 0 24 24\"\n",
              "       width=\"24px\">\n",
              "    <path d=\"M0 0h24v24H0V0z\" fill=\"none\"/>\n",
              "    <path d=\"M18.56 5.44l.94 2.06.94-2.06 2.06-.94-2.06-.94-.94-2.06-.94 2.06-2.06.94zm-11 1L8.5 8.5l.94-2.06 2.06-.94-2.06-.94L8.5 2.5l-.94 2.06-2.06.94zm10 10l.94 2.06.94-2.06 2.06-.94-2.06-.94-.94-2.06-.94 2.06-2.06.94z\"/><path d=\"M17.41 7.96l-1.37-1.37c-.4-.4-.92-.59-1.43-.59-.52 0-1.04.2-1.43.59L10.3 9.45l-7.72 7.72c-.78.78-.78 2.05 0 2.83L4 21.41c.39.39.9.59 1.41.59.51 0 1.02-.2 1.41-.59l7.78-7.78 2.81-2.81c.8-.78.8-2.07 0-2.86zM5.41 20L4 18.59l7.72-7.72 1.47 1.35L5.41 20z\"/>\n",
              "  </svg>\n",
              "      </button>\n",
              "      \n",
              "  <style>\n",
              "    .colab-df-container {\n",
              "      display:flex;\n",
              "      flex-wrap:wrap;\n",
              "      gap: 12px;\n",
              "    }\n",
              "\n",
              "    .colab-df-convert {\n",
              "      background-color: #E8F0FE;\n",
              "      border: none;\n",
              "      border-radius: 50%;\n",
              "      cursor: pointer;\n",
              "      display: none;\n",
              "      fill: #1967D2;\n",
              "      height: 32px;\n",
              "      padding: 0 0 0 0;\n",
              "      width: 32px;\n",
              "    }\n",
              "\n",
              "    .colab-df-convert:hover {\n",
              "      background-color: #E2EBFA;\n",
              "      box-shadow: 0px 1px 2px rgba(60, 64, 67, 0.3), 0px 1px 3px 1px rgba(60, 64, 67, 0.15);\n",
              "      fill: #174EA6;\n",
              "    }\n",
              "\n",
              "    [theme=dark] .colab-df-convert {\n",
              "      background-color: #3B4455;\n",
              "      fill: #D2E3FC;\n",
              "    }\n",
              "\n",
              "    [theme=dark] .colab-df-convert:hover {\n",
              "      background-color: #434B5C;\n",
              "      box-shadow: 0px 1px 3px 1px rgba(0, 0, 0, 0.15);\n",
              "      filter: drop-shadow(0px 1px 2px rgba(0, 0, 0, 0.3));\n",
              "      fill: #FFFFFF;\n",
              "    }\n",
              "  </style>\n",
              "\n",
              "      <script>\n",
              "        const buttonEl =\n",
              "          document.querySelector('#df-9f0a0895-c333-419d-b3bf-6b2b54cea35b button.colab-df-convert');\n",
              "        buttonEl.style.display =\n",
              "          google.colab.kernel.accessAllowed ? 'block' : 'none';\n",
              "\n",
              "        async function convertToInteractive(key) {\n",
              "          const element = document.querySelector('#df-9f0a0895-c333-419d-b3bf-6b2b54cea35b');\n",
              "          const dataTable =\n",
              "            await google.colab.kernel.invokeFunction('convertToInteractive',\n",
              "                                                     [key], {});\n",
              "          if (!dataTable) return;\n",
              "\n",
              "          const docLinkHtml = 'Like what you see? Visit the ' +\n",
              "            '<a target=\"_blank\" href=https://colab.research.google.com/notebooks/data_table.ipynb>data table notebook</a>'\n",
              "            + ' to learn more about interactive tables.';\n",
              "          element.innerHTML = '';\n",
              "          dataTable['output_type'] = 'display_data';\n",
              "          await google.colab.output.renderOutput(dataTable, element);\n",
              "          const docLink = document.createElement('div');\n",
              "          docLink.innerHTML = docLinkHtml;\n",
              "          element.appendChild(docLink);\n",
              "        }\n",
              "      </script>\n",
              "    </div>\n",
              "  </div>\n",
              "  "
            ]
          },
          "metadata": {},
          "execution_count": 7
        }
      ]
    },
    {
      "cell_type": "code",
      "execution_count": null,
      "id": "57770d18",
      "metadata": {
        "id": "57770d18"
      },
      "outputs": [],
      "source": [
        "X_train= train['input']\n",
        "y_train= train['labels']\n",
        "\n",
        "X_val= val['input']\n",
        "y_val= val['labels']\n",
        "\n",
        "test= test['input']"
      ]
    },
    {
      "cell_type": "code",
      "source": [
        "pipe0= Pipeline([('tfidf', TfidfVectorizer(lowercase= False, tokenizer= sent_tokenize)),\n",
        "                # ('scaler', MaxAbsScaler()),\n",
        "               ('model', MultinomialNB())])"
      ],
      "metadata": {
        "id": "XuU3kOFwAVlt"
      },
      "id": "XuU3kOFwAVlt",
      "execution_count": null,
      "outputs": []
    },
    {
      "cell_type": "code",
      "source": [
        "pipe0.fit(X_train, y_train)"
      ],
      "metadata": {
        "colab": {
          "base_uri": "https://localhost:8080/"
        },
        "id": "d-14cBE5AVOG",
        "outputId": "b8d1e775-96f1-419a-ad96-05d6a5913cc0"
      },
      "id": "d-14cBE5AVOG",
      "execution_count": null,
      "outputs": [
        {
          "output_type": "execute_result",
          "data": {
            "text/plain": [
              "Pipeline(steps=[('tfidf',\n",
              "                 TfidfVectorizer(lowercase=False,\n",
              "                                 tokenizer=<function sent_tokenize at 0x7f4a790eee60>)),\n",
              "                ('model', MultinomialNB())])"
            ]
          },
          "metadata": {},
          "execution_count": 10
        }
      ]
    },
    {
      "cell_type": "code",
      "source": [
        "y_pred= pipe0.predict(X_val)\n",
        "f1_score(y_val, y_pred)"
      ],
      "metadata": {
        "colab": {
          "base_uri": "https://localhost:8080/"
        },
        "id": "yJPi4bNLAeP_",
        "outputId": "a228d694-dd92-46bd-c021-0584379c0ee0"
      },
      "id": "yJPi4bNLAeP_",
      "execution_count": null,
      "outputs": [
        {
          "output_type": "execute_result",
          "data": {
            "text/plain": [
              "0.010964205095130602"
            ]
          },
          "metadata": {},
          "execution_count": 11
        }
      ]
    },
    {
      "cell_type": "code",
      "source": [
        "pipe1= Pipeline([('tfidf', TfidfVectorizer(lowercase= False, tokenizer= sent_tokenize)),\n",
        "                ('scaler', MaxAbsScaler()),\n",
        "               ('model', KNeighborsClassifier())])"
      ],
      "metadata": {
        "id": "srUJvRssJ3p1"
      },
      "id": "srUJvRssJ3p1",
      "execution_count": null,
      "outputs": []
    },
    {
      "cell_type": "code",
      "source": [
        "pipe1.fit(X_train, y_train)"
      ],
      "metadata": {
        "id": "e0X_YkMmOCaD",
        "colab": {
          "base_uri": "https://localhost:8080/"
        },
        "outputId": "58be6933-51bb-45f3-eb27-d3cda9dd1864"
      },
      "id": "e0X_YkMmOCaD",
      "execution_count": null,
      "outputs": [
        {
          "output_type": "execute_result",
          "data": {
            "text/plain": [
              "Pipeline(steps=[('tfidf',\n",
              "                 TfidfVectorizer(lowercase=False,\n",
              "                                 tokenizer=<function sent_tokenize at 0x7f4a790eee60>)),\n",
              "                ('scaler', MaxAbsScaler()), ('model', KNeighborsClassifier())])"
            ]
          },
          "metadata": {},
          "execution_count": 13
        }
      ]
    },
    {
      "cell_type": "code",
      "source": [
        "y_pred= pipe1.predict(X_val)\n",
        "f1_score(y_val, y_pred)"
      ],
      "metadata": {
        "id": "k993WMlSOF2m",
        "colab": {
          "base_uri": "https://localhost:8080/"
        },
        "outputId": "38c1c944-4e7e-4e84-f0a2-6428cb5aa3fc"
      },
      "id": "k993WMlSOF2m",
      "execution_count": null,
      "outputs": [
        {
          "output_type": "execute_result",
          "data": {
            "text/plain": [
              "0.6482084690553745"
            ]
          },
          "metadata": {},
          "execution_count": 14
        }
      ]
    },
    {
      "cell_type": "code",
      "source": [
        "pipe2= Pipeline([('tfidf', TfidfVectorizer(lowercase= False, tokenizer= sent_tokenize)),\n",
        "                ('scaler', MaxAbsScaler()),\n",
        "               ('model', SVC())])"
      ],
      "metadata": {
        "id": "HTgP46fdDU_G"
      },
      "id": "HTgP46fdDU_G",
      "execution_count": null,
      "outputs": []
    },
    {
      "cell_type": "code",
      "source": [
        "pipe2.fit(X_train, y_train)"
      ],
      "metadata": {
        "colab": {
          "base_uri": "https://localhost:8080/"
        },
        "id": "A_BttDjEDU7n",
        "outputId": "d8c8629a-3f01-4137-e8e3-50f1045d3389"
      },
      "id": "A_BttDjEDU7n",
      "execution_count": null,
      "outputs": [
        {
          "output_type": "execute_result",
          "data": {
            "text/plain": [
              "Pipeline(steps=[('tfidf',\n",
              "                 TfidfVectorizer(lowercase=False,\n",
              "                                 tokenizer=<function sent_tokenize at 0x7f4a790eee60>)),\n",
              "                ('scaler', MaxAbsScaler()), ('model', SVC())])"
            ]
          },
          "metadata": {},
          "execution_count": 16
        }
      ]
    },
    {
      "cell_type": "code",
      "source": [
        "y_pred= pipe2.predict(X_val)\n",
        "f1_score(y_val, y_pred)"
      ],
      "metadata": {
        "colab": {
          "base_uri": "https://localhost:8080/"
        },
        "id": "dKWPXJ7_DU43",
        "outputId": "ac6e7576-31c7-4aa4-b87e-b0d0c1d85c4b"
      },
      "id": "dKWPXJ7_DU43",
      "execution_count": null,
      "outputs": [
        {
          "output_type": "execute_result",
          "data": {
            "text/plain": [
              "0.014805278403604762"
            ]
          },
          "metadata": {},
          "execution_count": 17
        }
      ]
    },
    {
      "cell_type": "code",
      "source": [
        "test_preds_knn= pipe1.predict(test)"
      ],
      "metadata": {
        "id": "yB39etw0kicl"
      },
      "id": "yB39etw0kicl",
      "execution_count": null,
      "outputs": []
    },
    {
      "cell_type": "code",
      "source": [
        "test_preds_knn"
      ],
      "metadata": {
        "id": "a7eg1aidk0ed",
        "colab": {
          "base_uri": "https://localhost:8080/"
        },
        "outputId": "6f7d388c-c24e-46b1-97bc-d84a211186c6"
      },
      "id": "a7eg1aidk0ed",
      "execution_count": null,
      "outputs": [
        {
          "output_type": "execute_result",
          "data": {
            "text/plain": [
              "array([1, 1, 1, ..., 1, 1, 1])"
            ]
          },
          "metadata": {},
          "execution_count": 19
        }
      ]
    },
    {
      "cell_type": "code",
      "source": [
        "sub= pd.DataFrame({'input': test_inputs,\n",
        "                   'labels': test_preds_knn})"
      ],
      "metadata": {
        "id": "s2ZpmhrqVEmW"
      },
      "id": "s2ZpmhrqVEmW",
      "execution_count": null,
      "outputs": []
    },
    {
      "cell_type": "code",
      "source": [
        "sub"
      ],
      "metadata": {
        "colab": {
          "base_uri": "https://localhost:8080/",
          "height": 423
        },
        "id": "RPmYXfvGVZuP",
        "outputId": "a8cba224-c0e2-4d4f-f39d-afc70f1ee7a3"
      },
      "id": "RPmYXfvGVZuP",
      "execution_count": null,
      "outputs": [
        {
          "output_type": "execute_result",
          "data": {
            "text/plain": [
              "                                                  input  labels\n",
              "0     I believe they will master Japanese soon becau...       1\n",
              "1                                 I am looking for it .       1\n",
              "2     Apple is a round fruit with smooth and colorfu...       1\n",
              "3                                 Let It Will Be Push .       1\n",
              "4                     I rode on this ship from Sendai .       1\n",
              "...                                                 ...     ...\n",
              "9967    Lang is growing up and improving step by step !       1\n",
              "9968      I was away from my housework for about days .       1\n",
              "9969                       The conflict is so serious .       1\n",
              "9970  An apple is a round fruit with smooth and colo...       1\n",
              "9971          He is years old and he can barely speak .       1\n",
              "\n",
              "[9972 rows x 2 columns]"
            ],
            "text/html": [
              "\n",
              "  <div id=\"df-3d3a5aa6-d3b7-42d6-9b5a-71ac9aa2515c\">\n",
              "    <div class=\"colab-df-container\">\n",
              "      <div>\n",
              "<style scoped>\n",
              "    .dataframe tbody tr th:only-of-type {\n",
              "        vertical-align: middle;\n",
              "    }\n",
              "\n",
              "    .dataframe tbody tr th {\n",
              "        vertical-align: top;\n",
              "    }\n",
              "\n",
              "    .dataframe thead th {\n",
              "        text-align: right;\n",
              "    }\n",
              "</style>\n",
              "<table border=\"1\" class=\"dataframe\">\n",
              "  <thead>\n",
              "    <tr style=\"text-align: right;\">\n",
              "      <th></th>\n",
              "      <th>input</th>\n",
              "      <th>labels</th>\n",
              "    </tr>\n",
              "  </thead>\n",
              "  <tbody>\n",
              "    <tr>\n",
              "      <th>0</th>\n",
              "      <td>I believe they will master Japanese soon becau...</td>\n",
              "      <td>1</td>\n",
              "    </tr>\n",
              "    <tr>\n",
              "      <th>1</th>\n",
              "      <td>I am looking for it .</td>\n",
              "      <td>1</td>\n",
              "    </tr>\n",
              "    <tr>\n",
              "      <th>2</th>\n",
              "      <td>Apple is a round fruit with smooth and colorfu...</td>\n",
              "      <td>1</td>\n",
              "    </tr>\n",
              "    <tr>\n",
              "      <th>3</th>\n",
              "      <td>Let It Will Be Push .</td>\n",
              "      <td>1</td>\n",
              "    </tr>\n",
              "    <tr>\n",
              "      <th>4</th>\n",
              "      <td>I rode on this ship from Sendai .</td>\n",
              "      <td>1</td>\n",
              "    </tr>\n",
              "    <tr>\n",
              "      <th>...</th>\n",
              "      <td>...</td>\n",
              "      <td>...</td>\n",
              "    </tr>\n",
              "    <tr>\n",
              "      <th>9967</th>\n",
              "      <td>Lang is growing up and improving step by step !</td>\n",
              "      <td>1</td>\n",
              "    </tr>\n",
              "    <tr>\n",
              "      <th>9968</th>\n",
              "      <td>I was away from my housework for about days .</td>\n",
              "      <td>1</td>\n",
              "    </tr>\n",
              "    <tr>\n",
              "      <th>9969</th>\n",
              "      <td>The conflict is so serious .</td>\n",
              "      <td>1</td>\n",
              "    </tr>\n",
              "    <tr>\n",
              "      <th>9970</th>\n",
              "      <td>An apple is a round fruit with smooth and colo...</td>\n",
              "      <td>1</td>\n",
              "    </tr>\n",
              "    <tr>\n",
              "      <th>9971</th>\n",
              "      <td>He is years old and he can barely speak .</td>\n",
              "      <td>1</td>\n",
              "    </tr>\n",
              "  </tbody>\n",
              "</table>\n",
              "<p>9972 rows × 2 columns</p>\n",
              "</div>\n",
              "      <button class=\"colab-df-convert\" onclick=\"convertToInteractive('df-3d3a5aa6-d3b7-42d6-9b5a-71ac9aa2515c')\"\n",
              "              title=\"Convert this dataframe to an interactive table.\"\n",
              "              style=\"display:none;\">\n",
              "        \n",
              "  <svg xmlns=\"http://www.w3.org/2000/svg\" height=\"24px\"viewBox=\"0 0 24 24\"\n",
              "       width=\"24px\">\n",
              "    <path d=\"M0 0h24v24H0V0z\" fill=\"none\"/>\n",
              "    <path d=\"M18.56 5.44l.94 2.06.94-2.06 2.06-.94-2.06-.94-.94-2.06-.94 2.06-2.06.94zm-11 1L8.5 8.5l.94-2.06 2.06-.94-2.06-.94L8.5 2.5l-.94 2.06-2.06.94zm10 10l.94 2.06.94-2.06 2.06-.94-2.06-.94-.94-2.06-.94 2.06-2.06.94z\"/><path d=\"M17.41 7.96l-1.37-1.37c-.4-.4-.92-.59-1.43-.59-.52 0-1.04.2-1.43.59L10.3 9.45l-7.72 7.72c-.78.78-.78 2.05 0 2.83L4 21.41c.39.39.9.59 1.41.59.51 0 1.02-.2 1.41-.59l7.78-7.78 2.81-2.81c.8-.78.8-2.07 0-2.86zM5.41 20L4 18.59l7.72-7.72 1.47 1.35L5.41 20z\"/>\n",
              "  </svg>\n",
              "      </button>\n",
              "      \n",
              "  <style>\n",
              "    .colab-df-container {\n",
              "      display:flex;\n",
              "      flex-wrap:wrap;\n",
              "      gap: 12px;\n",
              "    }\n",
              "\n",
              "    .colab-df-convert {\n",
              "      background-color: #E8F0FE;\n",
              "      border: none;\n",
              "      border-radius: 50%;\n",
              "      cursor: pointer;\n",
              "      display: none;\n",
              "      fill: #1967D2;\n",
              "      height: 32px;\n",
              "      padding: 0 0 0 0;\n",
              "      width: 32px;\n",
              "    }\n",
              "\n",
              "    .colab-df-convert:hover {\n",
              "      background-color: #E2EBFA;\n",
              "      box-shadow: 0px 1px 2px rgba(60, 64, 67, 0.3), 0px 1px 3px 1px rgba(60, 64, 67, 0.15);\n",
              "      fill: #174EA6;\n",
              "    }\n",
              "\n",
              "    [theme=dark] .colab-df-convert {\n",
              "      background-color: #3B4455;\n",
              "      fill: #D2E3FC;\n",
              "    }\n",
              "\n",
              "    [theme=dark] .colab-df-convert:hover {\n",
              "      background-color: #434B5C;\n",
              "      box-shadow: 0px 1px 3px 1px rgba(0, 0, 0, 0.15);\n",
              "      filter: drop-shadow(0px 1px 2px rgba(0, 0, 0, 0.3));\n",
              "      fill: #FFFFFF;\n",
              "    }\n",
              "  </style>\n",
              "\n",
              "      <script>\n",
              "        const buttonEl =\n",
              "          document.querySelector('#df-3d3a5aa6-d3b7-42d6-9b5a-71ac9aa2515c button.colab-df-convert');\n",
              "        buttonEl.style.display =\n",
              "          google.colab.kernel.accessAllowed ? 'block' : 'none';\n",
              "\n",
              "        async function convertToInteractive(key) {\n",
              "          const element = document.querySelector('#df-3d3a5aa6-d3b7-42d6-9b5a-71ac9aa2515c');\n",
              "          const dataTable =\n",
              "            await google.colab.kernel.invokeFunction('convertToInteractive',\n",
              "                                                     [key], {});\n",
              "          if (!dataTable) return;\n",
              "\n",
              "          const docLinkHtml = 'Like what you see? Visit the ' +\n",
              "            '<a target=\"_blank\" href=https://colab.research.google.com/notebooks/data_table.ipynb>data table notebook</a>'\n",
              "            + ' to learn more about interactive tables.';\n",
              "          element.innerHTML = '';\n",
              "          dataTable['output_type'] = 'display_data';\n",
              "          await google.colab.output.renderOutput(dataTable, element);\n",
              "          const docLink = document.createElement('div');\n",
              "          docLink.innerHTML = docLinkHtml;\n",
              "          element.appendChild(docLink);\n",
              "        }\n",
              "      </script>\n",
              "    </div>\n",
              "  </div>\n",
              "  "
            ]
          },
          "metadata": {},
          "execution_count": 21
        }
      ]
    },
    {
      "cell_type": "code",
      "source": [
        "sub.to_csv('submission_knn.csv', index= False)"
      ],
      "metadata": {
        "id": "Z6dtZ7lfVnPF"
      },
      "id": "Z6dtZ7lfVnPF",
      "execution_count": null,
      "outputs": []
    }
  ],
  "metadata": {
    "kernelspec": {
      "display_name": "Python 3 (ipykernel)",
      "language": "python",
      "name": "python3"
    },
    "language_info": {
      "codemirror_mode": {
        "name": "ipython",
        "version": 3
      },
      "file_extension": ".py",
      "mimetype": "text/x-python",
      "name": "python",
      "nbconvert_exporter": "python",
      "pygments_lexer": "ipython3",
      "version": "3.8.12"
    },
    "colab": {
      "name": "1. modelling.ipynb",
      "provenance": [],
      "collapsed_sections": [],
      "include_colab_link": true
    }
  },
  "nbformat": 4,
  "nbformat_minor": 5
}
